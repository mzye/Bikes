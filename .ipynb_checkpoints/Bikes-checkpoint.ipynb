{
 "metadata": {
  "name": "",
  "signature": "sha256:721912ad37e563c8e02a24be38869152b56231419c6e6b64b0bfa27c5a1e2be9"
 },
 "nbformat": 3,
 "nbformat_minor": 0,
 "worksheets": [
  {
   "cells": [
    {
     "cell_type": "code",
     "collapsed": false,
     "input": [
      "%matplotlib inline\n",
      "\n",
      "from pandas import *\n",
      "import matplotlib.pyplot as plt\n",
      "import pandas as pd\n",
      "import pylab\n",
      "import scipy\n",
      "import scipy.stats\n",
      "\n",
      "# Load the data\n",
      "\n",
      "location = '..\\data.csv'\n",
      "bikes = read_csv(location)"
     ],
     "language": "python",
     "metadata": {},
     "outputs": [],
     "prompt_number": 1
    },
    {
     "cell_type": "heading",
     "level": 6,
     "metadata": {},
     "source": [
      "Q2_1: Calculate the average of duration of each trip."
     ]
    },
    {
     "cell_type": "heading",
     "level": 6,
     "metadata": {},
     "source": [
      "Answer: The average length of a trip is 886.362807037 seconds."
     ]
    },
    {
     "cell_type": "code",
     "collapsed": false,
     "input": [
      "ave_trip= (to_datetime(bikes.stoptime)-to_datetime(bikes.starttime)).astype('timedelta64[s]').mean()\n",
      "\n",
      "print \"The average length of a trip is\", ave_trip, \"seconds.\"\n"
     ],
     "language": "python",
     "metadata": {},
     "outputs": [
      {
       "output_type": "stream",
       "stream": "stdout",
       "text": [
        "The average length of a trip is 886.362807037 seconds.\n"
       ]
      }
     ],
     "prompt_number": 4
    },
    {
     "cell_type": "heading",
     "level": 6,
     "metadata": {},
     "source": [
      "Q2_2: Calculate the fraction of minimum missing data and original dataset."
     ]
    },
    {
     "cell_type": "heading",
     "level": 6,
     "metadata": {},
     "source": [
      "Answer: Fraction of minimum missing data and original dataset is 0.11957424222 ."
     ]
    },
    {
     "cell_type": "markdown",
     "metadata": {},
     "source": [
      "Compare if the end station id is the same as next start station id, if not, there must be at least one row of data missing.               fraction = # of at least one row missing / # of rows of original dataset"
     ]
    },
    {
     "cell_type": "code",
     "collapsed": false,
     "input": [
      "# Compare if the end station id is the same as next start station id for a bike, if not, there must be at least one row of data missing \n",
      "\n",
      "def compare_station(group):\n",
      "    ct=0\n",
      "    df_sort = group.sort(['starttime'])\n",
      "    if len(df_sort)>1:\n",
      "        for i in range(0, len(df_sort)-1):\n",
      "            if df_sort['end station id'].iloc[i] != df_sort['start station id'].iloc[i+1]:\n",
      "                ct=ct+1\n",
      "    return ct\n",
      "\n",
      "df_all = bikes.groupby('bikeid').apply(compare_station)"
     ],
     "language": "python",
     "metadata": {},
     "outputs": [],
     "prompt_number": 5
    },
    {
     "cell_type": "code",
     "collapsed": false,
     "input": [
      "fraction = float(df_all.sum() )/ float(len(bikes))\n",
      "\n",
      "print \"Fraction of minimum missing data and original dataset is\", fraction"
     ],
     "language": "python",
     "metadata": {},
     "outputs": [
      {
       "output_type": "stream",
       "stream": "stdout",
       "text": [
        "Fraction of minimum missing data and original dataset is 0.11957424222\n"
       ]
      }
     ],
     "prompt_number": 6
    },
    {
     "cell_type": "heading",
     "level": 6,
     "metadata": {},
     "source": [
      "Q2_3: Based on the available data, what is the average amount of time a bike spends at a station in seconds?"
     ]
    },
    {
     "cell_type": "heading",
     "level": 6,
     "metadata": {},
     "source": [
      "Answer: The average amount of time a bike spends at a station is: 10078.0574853 secnods."
     ]
    },
    {
     "cell_type": "code",
     "collapsed": false,
     "input": [
      "# Calculate the amount of time of each stay at a station\n",
      "\n",
      "def duration_at_station(group):\n",
      "    st = group.sort(['starttime'])\n",
      "    ds_one = []\n",
      "    if len(st)>1:\n",
      "        for i in range(len(st)-1):\n",
      "            if st['end station id'].iloc[i] == st['start station id'].iloc[i+1]:\n",
      "                ds_one.append((to_datetime(st.starttime.iloc[i+1])-to_datetime(st.stoptime.iloc[i])).total_seconds())\n",
      "    return ds_one   \n",
      "\n",
      "#Store the amount of all stays, and calculate the average\n",
      "ds_all = bikes.groupby('bikeid').apply(duration_at_station)\n",
      "ave_stay = scipy.mean(ds_all.sum())\n",
      "print \"The average amount of time a bike spends at a station is:\", ave_stay, 'secnods.'\n"
     ],
     "language": "python",
     "metadata": {},
     "outputs": [
      {
       "output_type": "stream",
       "stream": "stdout",
       "text": [
        "The average amount of time a bike spends at a station is: 10078.0574853 secnods.\n"
       ]
      }
     ],
     "prompt_number": 42
    },
    {
     "cell_type": "heading",
     "level": 6,
     "metadata": {},
     "source": [
      "Q2_4: What is the major differnce of useage pattern between station fe2a5f and fec8ff?"
     ]
    },
    {
     "cell_type": "heading",
     "level": 6,
     "metadata": {},
     "source": [
      "Answer: The data and plot show that much more bikes were handled at station fe2a5f than station fec8ff, and average amount of time of a stay at staion fe2a5f is lower than station fec8ff. Therefore, the flow of station fe2a5f is faster than station fec8ff.   "
     ]
    },
    {
     "cell_type": "code",
     "collapsed": false,
     "input": [
      "# Calculate the number of bikes were handled in each station, including arrival and leave\n",
      "station1 = 'fe2a5f'\n",
      "station2 = 'fec8ff'\n",
      "# the data of bikes checking in or checking out from stations\n",
      "df1 = bikes[(bikes['start station id']==station1) | (bikes['end station id']==station1)]\n",
      "df2 = bikes[(bikes['start station id']==station2) | (bikes['end station id']==station2)]\n",
      "S1=bikes[bikes['start station id']==station1]\n",
      "R1=bikes[bikes['end station id']==station1]\n",
      "S2=bikes[bikes['start station id']==station2]\n",
      "R2=bikes[bikes['end station id']==station2]\n",
      "df3 = bikes[(bikes['start station id']==station1) & (bikes['end station id']==station1)]\n",
      "df4 = bikes[(bikes['start station id']==station2) & (bikes['end station id']==station2)]\n",
      "\n",
      "n1 = len(df1)+len(df3)\n",
      "print \"the number of times that a bike arrived at or left from station\", station1, \"is\", n1\n",
      "\n",
      "n2 = len(df2)+len(df4)\n",
      "print \"the number of times that a bike arrived at or left from station\", station2, \"is\", n2\n",
      "\n",
      "r1 = len(R1)\n",
      "print \"the number of times that a bike arrived at station\", station1, \"is\", r1\n",
      "\n",
      "s1 = len(S1)\n",
      "print \"the number of times that a bike left from station\", station1, \"is\", s1\n",
      "\n",
      "r2 = len(R2)\n",
      "print \"the number of times that a bike arrived at station\", station2, \"is\", r2\n",
      "\n",
      "s2 = len(S2)\n",
      "print \"the number of times that a bike left from station\", station2, \"is\", s2"
     ],
     "language": "python",
     "metadata": {},
     "outputs": [
      {
       "output_type": "stream",
       "stream": "stdout",
       "text": [
        "the number of times that a bike arrived at or left from station fe2a5f is 20090\n",
        "the number of times that a bike arrived at or left from station fec8ff is 6283\n",
        "the number of times that a bike arrived at station fe2a5f is 10492\n",
        "the number of times that a bike left from station fe2a5f is 9598\n",
        "the number of times that a bike arrived at station fec8ff is 3362\n",
        "the number of times that a bike left from station fec8ff is 2921\n"
       ]
      }
     ],
     "prompt_number": 20
    },
    {
     "cell_type": "code",
     "collapsed": false,
     "input": [
      "def duration_at_station_2(group,sid):\n",
      "    st = group.sort(['starttime'])\n",
      "    ds_one = []\n",
      "    if len(st)>1:\n",
      "        for i in range(0, len(st)-1):\n",
      "            if ((st['end station id'].iloc[i] == st['start station id'].iloc[i+1]) & (st['end station id'].iloc[i] == sid)):\n",
      "                ds_one.append((to_datetime(st.starttime.iloc[i+1])-to_datetime(st.stoptime.iloc[i])).total_seconds())\n",
      "    return ds_one   \n",
      "\n",
      "d1=df1.groupby('bikeid').apply(duration_at_station_2, station1)\n",
      "t1=scipy.mean(d1.sum())\n",
      "print \"the average amount of time of each stay at station\", station1, \"is\", t1, \"seconds\"\n",
      "\n",
      "d2=df2.groupby('bikeid').apply(duration_at_station_2, station2)\n",
      "t2=scipy.mean(d2.sum())\n",
      "print \"the average amount of time of each stay at station\", station2, \"is\", t2, \"seconds\""
     ],
     "language": "python",
     "metadata": {},
     "outputs": [
      {
       "output_type": "stream",
       "stream": "stdout",
       "text": [
        "the average amount of time of each stay at station fe2a5f is 15450.6100615 seconds\n",
        "the average amount of time of each stay at station"
       ]
      },
      {
       "output_type": "stream",
       "stream": "stdout",
       "text": [
        " fec8ff is 21102.071619 seconds\n"
       ]
      }
     ],
     "prompt_number": 25
    },
    {
     "cell_type": "code",
     "collapsed": false,
     "input": [
      "cols = [\"counts of bike handling\", \"counts of arriving\", \"counts of leaving\", \"average stay (seconds)\"]\n",
      "x = DataFrame({\"counts of bike handling\":Series({station1:n1,station2:n2}), \"counts of arriving\":Series({station1:r1, station2:r2}), \"counts of leaving\":Series({station1:s1, station2:s2}), \"average stay (seconds)\":Series({station1:t1, station2:t2})}, columns = cols)\n",
      "print x\n",
      "x.plot(kind ='bar',figsize=(9, 6))"
     ],
     "language": "python",
     "metadata": {},
     "outputs": [
      {
       "output_type": "stream",
       "stream": "stdout",
       "text": [
        "        counts of bike handling  counts of arriving  counts of leaving  \\\n",
        "fe2a5f                    20090               10492               9598   \n",
        "fec8ff                     6283                3362               2921   \n",
        "\n",
        "        average stay (seconds)  \n",
        "fe2a5f            15450.610061  \n",
        "fec8ff            21102.071619  \n"
       ]
      },
      {
       "metadata": {},
       "output_type": "pyout",
       "prompt_number": 41,
       "text": [
        "<matplotlib.axes._subplots.AxesSubplot at 0x157e69b0>"
       ]
      },
      {
       "metadata": {},
       "output_type": "display_data",
       "png": "[encoded data removed]",
       "text": [
        "<matplotlib.figure.Figure at 0x33b14a20>"
       ]
      }
     ],
     "prompt_number": 41
    },
    {
     "cell_type": "heading",
     "level": 6,
     "metadata": {},
     "source": [
      "Q2_5: The estimated number of bikes at station 4a4b61, 8f0f64 in each hour on 2013-10-30."
     ]
    },
    {
     "cell_type": "markdown",
     "metadata": {},
     "source": [
      "Estimate the number of bikes stored at each station before 2013-10-30, then calculate the bikes at station in each hour. The estimated number of bikes in each hour is the number of bikes stored before this hour and the net number of bikes arrived in this hour. "
     ]
    },
    {
     "cell_type": "code",
     "collapsed": false,
     "input": [
      "stations = [\"8f0f64\",\"4a4b61\"]\n",
      "est_bikes = pd.DataFrame(columns=['hour', stations[0], stations[1]])\n",
      "for i in range(2):\n",
      "    sid = stations[i]\n",
      "    # select all the available data before 2013/10/30 at a station\n",
      "    df_before = bikes[(bikes['start station id']==sid) | (bikes['end station id']==sid)]\n",
      "    data_before = df_before[(to_datetime(df_before.starttime)<'2013-10-30') | (to_datetime(df_before.stoptime)<'2013-10-30')]\n",
      "\n",
      "    # If the last event of a bike is checking in to the station, then the bike is in the station\n",
      "    def check_last_event(group,sid):\n",
      "        result = 0\n",
      "        st = group.sort('stoptime')\n",
      "        if st.tail(1)['end station id'].any() == sid:\n",
      "            result = 1\n",
      "        return result\n",
      "    # The estimated number of bikes at a station before 2013-10-30\n",
      "    r = data_before.groupby('bikeid').apply(check_last_event,sid).sum()\n",
      "    print \"The estimated number of bikes at station\", sid, \"before 2013-10-30 is\", r\n",
      "    \n",
      "    # The data of a station on 2013-10-30\n",
      "    d = bikes[((bikes['start station id']==sid) | (bikes['end station id']==sid)) & (bikes.starttime.str.contains('2013-10-30') |bikes.stoptime.str.contains('2013-10-30'))]\n",
      "    d['hour'] = to_datetime(d.stoptime).iloc[0].hour\n",
      "    # add a column 'hour' \n",
      "    for i in range(len(d)):\n",
      "        d['hour'].iloc[i] = to_datetime(d.stoptime).iloc[i].hour\n",
      "    \n",
      "    # (# of bikes)@hour = (# of bikes checking in)@hour - (# of bikes checking out)@hour\n",
      "    h = []\n",
      "    def estimated_number_bikes(group, p_number, sid):\n",
      "        N_bikes = []\n",
      "        for i in range (0, 24):\n",
      "            h.append(i)\n",
      "            number = len (group[(group.hour == i) & (group['end station id']==sid)])-len (group[(group.hour == i) & (group['start station id']==sid)]) + p_number\n",
      "            p_number = number \n",
      "            N_bikes.append(number)\n",
      "        return N_bikes\n",
      "\n",
      "    num = estimated_number_bikes(d, r, sid)\n",
      "    est_bikes['hour'] = h\n",
      "    est_bikes[sid] = num"
     ],
     "language": "python",
     "metadata": {},
     "outputs": [
      {
       "output_type": "stream",
       "stream": "stdout",
       "text": [
        "The estimated number of bikes at station 8f0f64 before 2013-10-30 is 96\n",
        "The estimated number of bikes at station"
       ]
      },
      {
       "output_type": "stream",
       "stream": "stdout",
       "text": [
        " 4a4b61 before 2013-10-30 is 192\n"
       ]
      }
     ],
     "prompt_number": 33
    },
    {
     "cell_type": "code",
     "collapsed": false,
     "input": [
      "print est_bikes.to_csv(index=False)"
     ],
     "language": "python",
     "metadata": {},
     "outputs": [
      {
       "output_type": "stream",
       "stream": "stdout",
       "text": [
        "hour,8f0f64,4a4b61\n",
        "0,96,193\n",
        "1,96,193\n",
        "2,96,193\n",
        "3,96,192\n",
        "4,96,192\n",
        "5,96,192\n",
        "6,97,197\n",
        "7,99,214\n",
        "8,124,228\n",
        "9,124,239\n",
        "10,124,239\n",
        "11,124,237\n",
        "12,124,235\n",
        "13,124,230\n",
        "14,124,233\n",
        "15,120,228\n",
        "16,114,220\n",
        "17,98,195\n",
        "18,94,190\n",
        "19,94,191\n",
        "20,96,190\n",
        "21,95,188\n",
        "22,95,188\n",
        "23,95,188\n",
        "\n"
       ]
      }
     ],
     "prompt_number": 30
    },
    {
     "cell_type": "heading",
     "level": 6,
     "metadata": {},
     "source": [
      "Q2_6: Predict the number of bicycles arriving at stations 912d97, 2da8d7, 010d01, 36ba2f, fa4911\n",
      "on 2013/11/26 in each hour."
     ]
    },
    {
     "cell_type": "markdown",
     "metadata": {},
     "source": [
      "First, we assume the usage pattern for each station is same everyday, and use the average of the available data for prediction."
     ]
    },
    {
     "cell_type": "code",
     "collapsed": false,
     "input": [
      "sids = ['912d97', '2da8d7', '010d01', '36ba2f', 'fa4911']\n",
      "prediction = pd.DataFrame(columns=['hour', sids[0], sids[1],sids[2],sids[3],sids[4]])\n",
      "\n",
      "for i in range (0,5):\n",
      "    sid = sids[i]\n",
      "    data = bikes[(bikes['end station id']==sid) & (~bikes.stoptime.str.contains(date))]\n",
      "    date = \"2013-11-26\"\n",
      "    time = to_datetime(data.stoptime)\n",
      "    d = data.set_index(time)\n",
      "    days = len(d.groupby([lambda x: x.day,lambda x: x.month,lambda x: x.year]))\n",
      "    d.groupby([lambda x: x.hour])\n",
      "    n_ave = (d.groupby([lambda x: x.hour]).size()) / days\n",
      "    prediction[sid] = n_ave\n",
      "    \n",
      "h=[]\n",
      "for i in range(0,24):\n",
      "    h.append(i)\n",
      "prediction['hour']= h"
     ],
     "language": "python",
     "metadata": {},
     "outputs": [],
     "prompt_number": 69
    },
    {
     "cell_type": "code",
     "collapsed": false,
     "input": [
      "print prediction.to_csv(index=False)"
     ],
     "language": "python",
     "metadata": {},
     "outputs": [
      {
       "output_type": "stream",
       "stream": "stdout",
       "text": [
        "hour,912d97,2da8d7,010d01,36ba2f,fa4911\n",
        "0,2.5245901639344264,1.639344262295082,2.0655737704918034,2.4754098360655736,1.639344262295082\n",
        "1,0.9672131147540983,0.9016393442622951,1.2622950819672132,0.8524590163934426,0.5573770491803278\n",
        "2,0.45901639344262296,0.5081967213114754,0.7049180327868853,0.6229508196721312,0.16393442622950818\n",
        "3,0.18032786885245902,0.5245901639344263,0.4098360655737705,0.39344262295081966,0.09836065573770492\n",
        "4,0.19672131147540983,0.3770491803278688,0.4098360655737705,0.36065573770491804,0.16393442622950818\n",
        "5,1.5245901639344261,1.0491803278688525,1.2459016393442623,0.6557377049180327,2.1475409836065573\n",
        "6,5.442622950819672,5.737704918032787,5.688524590163935,4.098360655737705,7.918032786885246\n",
        "7,11.967213114754099,12.475409836065573,12.639344262295081,7.983606557377049,17.737704918032787\n",
        "8,15.80327868852459,24.475409836065573,21.721311475409838,15.426229508196721,25.901639344262296\n",
        "9,11.327868852459016,21.42622950819672,18.34426229508197,13.426229508196721,18.852459016393443\n",
        "10,10.737704918032787,16.59016393442623,13.819672131147541,9.163934426229508,8.98360655737705\n",
        "11,13.819672131147541,19.721311475409838,13.639344262295081,9.59016393442623,8.049180327868852\n",
        "12,16.114754098360656,21.688524590163933,16.0327868852459,10.540983606557377,9.885245901639344\n",
        "13,17.39344262295082,22.40983606557377,17.098360655737704,12.114754098360656,10.065573770491802\n",
        "14,19.21311475409836,21.81967213114754,17.459016393442624,15.836065573770492,11.754098360655737\n",
        "15,20.491803278688526,23.721311475409838,18.59016393442623,22.34426229508197,14.59016393442623\n",
        "16,21.40983606557377,24.16393442622951,18.737704918032787,33.39344262295082,22.18032786885246\n",
        "17,25.42622950819672,29.39344262295082,26.24590163934426,55.114754098360656,43.295081967213115\n",
        "18,27.868852459016395,25.688524590163933,27.672131147540984,32.67213114754098,30.491803278688526\n",
        "19,22.327868852459016,18.918032786885245,23.459016393442624,17.081967213114755,14.081967213114755\n",
        "20,16.0327868852459,13.131147540983607,16.24590163934426,11.918032786885245,8.065573770491802\n",
        "21,10.704918032786885,7.442622950819672,11.065573770491802,8.40983606557377,4.901639344262295\n",
        "22,6.39344262295082,3.918032786885246,7.409836065573771,5.688524590163935,4.39344262295082\n",
        "23,4.147540983606557,2.901639344262295,4.672131147540983,3.278688524590164,2.7540983606557377\n",
        "\n"
       ]
      }
     ],
     "prompt_number": 70
    },
    {
     "cell_type": "code",
     "collapsed": false,
     "input": [],
     "language": "python",
     "metadata": {},
     "outputs": []
    }
   ],
   "metadata": {}
  }
 ]
}